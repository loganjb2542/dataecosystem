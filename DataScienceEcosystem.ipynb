{
 "cells": [
  {
   "cell_type": "markdown",
   "id": "05e3234c-31aa-4357-a7c1-0c59bf4e642b",
   "metadata": {},
   "source": [
    "# Data Science Tools and Ecosystem"
   ]
  },
  {
   "cell_type": "markdown",
   "id": "2e14227f-913b-48c4-b59f-be60b0e4fd0e",
   "metadata": {},
   "source": [
    "## In this notebook, Data Science Tools and Ecosystem are summarized.\n"
   ]
  },
  {
   "cell_type": "markdown",
   "id": "9d70e37a-4df7-4ff3-a5c3-1c8f709d1233",
   "metadata": {},
   "source": [
    "Some of the popular languages that Data Scientists use are:\n",
    "1. R\n",
    "2. Python\n",
    "3. SQL\n",
    "4. Julia\n",
    "5. Scala"
   ]
  },
  {
   "cell_type": "markdown",
   "id": "47a4b631-52a0-4659-b433-5d2d01556884",
   "metadata": {},
   "source": [
    "Some of the commonly used libraries used by Data Scientists include:\n",
    "1. NumPy\n",
    "2. Pandas\n",
    "3. Matplotlib\n",
    "4. PyTorch"
   ]
  },
  {
   "cell_type": "markdown",
   "id": "acf4fce3-0e85-4112-9de6-78fd094c557e",
   "metadata": {},
   "source": [
    "#### Data Science Tools\n",
    "\n",
    "| Tool | Description |\n",
    "|---|---|\n",
    "| Python | General-purpose programming language with extensive data science libraries |\n",
    "| R   | Language and environment for statistical computing and graphics |\n",
    "| SQL | Standard language for managing and manipulating relational databases |\n",
    "| Jupyter Notebook | Interactive environment for data cleaning and exploration |\n",
    "| NumPy | Library for numerical operations on large arrays and matrices |\n",
    "| Pandas | Library for data manipulation and analysis |\n",
    "| Matplotlib | Plotting library for creating static, animated, and interactive visualizations |"
   ]
  },
  {
   "cell_type": "markdown",
   "id": "90cc153b-5347-4568-85dd-53dd5dd5ef87",
   "metadata": {},
   "source": [
    "### Below are a few examples of evaluating arithmetic expressions in Python\n",
    "x = 5\n",
    "y = 6\n",
    " 1. add = x+y\n",
    " 2. sub = x-y\n",
    " 3. mul = x*y\n",
    " 4. div = x/y\n",
    "##### Calling the print function\n",
    "1. print(\"Addition:\", add)\n",
    "2. print(\"Subtraction:\", sub)\n",
    "3. print(\"Multiplication:\", mul)\n",
    "4. print(\"Division:\", div)"
   ]
  },
  {
   "cell_type": "code",
   "execution_count": 1,
   "id": "19a127bb-c5e9-451f-a6ef-8a4a2cf124ba",
   "metadata": {},
   "outputs": [
    {
     "name": "stdout",
     "output_type": "stream",
     "text": [
      "Result 17\n"
     ]
    }
   ],
   "source": [
    "# This a simple arithmetic expression to mutiply then add integers\n",
    "example = (3*4)+5\n",
    "\n",
    "print(\"Result\", example)"
   ]
  },
  {
   "cell_type": "code",
   "execution_count": 3,
   "id": "f904794e-2002-4c8b-9b7c-dbc618ed0b91",
   "metadata": {},
   "outputs": [
    {
     "name": "stdout",
     "output_type": "stream",
     "text": [
      "3.33 hrs\n"
     ]
    }
   ],
   "source": [
    "#This will convert 200 minutes to hours by diving by 60\n",
    "min = 200\n",
    "hourstominutes = 200/60\n",
    "\n",
    "print(round(hourstominutes,2),\"hrs\")"
   ]
  },
  {
   "cell_type": "markdown",
   "id": "36a67341-3f08-4fb0-8996-213ea1c71a96",
   "metadata": {},
   "source": [
    "### Objectives:\n",
    "\n",
    "* Explore popular programming languages for Data Science.\n",
    "* Understand essential libraries used in Data Science.\n",
    "* Learned some basic tools for data science.\n",
    "* Learn basic arithmetic operations in Python.\n",
    "* Understand the `round()` function in Python."
   ]
  },
  {
   "cell_type": "markdown",
   "id": "8b078a01-bae6-4170-8e20-90ccb776b888",
   "metadata": {},
   "source": [
    "## Author\n",
    "Rahul Yadav"
   ]
  },
  {
   "cell_type": "code",
   "execution_count": null,
   "id": "0ab4a766-6f21-4fc5-9224-d3cc60453dfa",
   "metadata": {},
   "outputs": [],
   "source": []
  }
 ],
 "metadata": {
  "kernelspec": {
   "display_name": "Python 3 (ipykernel)",
   "language": "python",
   "name": "python3"
  },
  "language_info": {
   "codemirror_mode": {
    "name": "ipython",
    "version": 3
   },
   "file_extension": ".py",
   "mimetype": "text/x-python",
   "name": "python",
   "nbconvert_exporter": "python",
   "pygments_lexer": "ipython3",
   "version": "3.10.11"
  }
 },
 "nbformat": 4,
 "nbformat_minor": 5
}
